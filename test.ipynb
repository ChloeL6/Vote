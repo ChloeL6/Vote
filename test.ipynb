{
 "cells": [
  {
   "cell_type": "code",
   "execution_count": 18,
   "metadata": {},
   "outputs": [
    {
     "name": "stdout",
     "output_type": "stream",
     "text": [
      "['confetti', 'confetti', 'lemon', 'lemon', 'pistachio', 'vanilla', 'rose', 'lemon', 'vanilla', 'lemon', 'pumpkin', 'confetti', 'lemon', 'lemon', 'vanilla', 'confetti', 'rose', 'strawberry', 'pumpkin', 'vanilla', 'lemon', 'chocolate', 'lemon', 'rose', 'strawberry', 'pumpkin', 'vanilla', 'strawberry', 'pistachio', 'chocolate', 'strawberry', 'confetti', 'chocolate', 'pistachio', 'confetti', 'rose', 'chocolate', 'vanilla', 'strawberry', 'caramel', 'strawberry', 'pumpkin', 'pistachio', 'confetti', 'confetti', 'chocolate', 'pistachio', 'caramel', 'caramel', 'lemon', 'strawberry', 'lemon', 'pumpkin', 'confetti', 'pistachio', 'strawberry', 'lemon', 'lemon', 'lemon', 'lemon', 'caramel', 'confetti', 'lemon', 'lemon', 'confetti', 'caramel', 'confetti', 'pumpkin', 'caramel', 'rose', 'confetti', 'vanilla', 'chocolate', 'chocolate', 'rose', 'lemon', 'lemon', 'confetti', 'pumpkin', 'confetti', 'rose', 'confetti', 'chocolate', 'rose', 'pumpkin', 'caramel', 'confetti', 'caramel', 'lemon', 'lemon', 'lemon']\n",
      "Counter({'lemon': 21, 'confetti': 17, 'rose': 8, 'pumpkin': 8, 'strawberry': 8, 'chocolate': 8, 'caramel': 8, 'vanilla': 7, 'pistachio': 6})\n",
      "lemon\n"
     ]
    }
   ],
   "source": [
    "import pandas as pd\n",
    "from collections import Counter\n",
    "\n",
    "FLAVOR_CHOICES  = [\"lemon\", \"vanilla\", \"chocolate\", \"pistachio\", \"strawberry\", \"confetti\", \"caramel\", \"pumpkin\", \"rose\"]\n",
    "\n",
    "df = pd.read_csv('airflow/data/votes.csv', header=0)\n",
    "valid_votes_df = df[df['votes'].isin(FLAVOR_CHOICES)]\n",
    "valid_votes_lst = valid_votes_df['votes'].values.tolist()\n",
    "\n",
    "count_flavor = Counter(valid_votes_lst)\n",
    "highest_vote = max(count_flavor, key=count_flavor.get)\n",
    "\n",
    "\n",
    "print(valid_votes_lst)\n",
    "print(count_flavor)\n",
    "print(highest_vote)\n",
    "\n"
   ]
  }
 ],
 "metadata": {
  "kernelspec": {
   "display_name": "Python 3 (ipykernel)",
   "language": "python",
   "name": "python3"
  },
  "language_info": {
   "codemirror_mode": {
    "name": "ipython",
    "version": 3
   },
   "file_extension": ".py",
   "mimetype": "text/x-python",
   "name": "python",
   "nbconvert_exporter": "python",
   "pygments_lexer": "ipython3",
   "version": "3.7.15"
  },
  "orig_nbformat": 4
 },
 "nbformat": 4,
 "nbformat_minor": 2
}
